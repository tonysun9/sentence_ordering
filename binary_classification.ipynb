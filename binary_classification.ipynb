{
 "cells": [
  {
   "cell_type": "code",
   "execution_count": 19,
   "metadata": {},
   "outputs": [],
   "source": [
    "import itertools\n",
    "import random"
   ]
  },
  {
   "cell_type": "code",
   "execution_count": 7,
   "metadata": {},
   "outputs": [],
   "source": [
    "how_to_read = [(\"open a book\", 1), (\"read the first line\", 2), (\"read the first chapter\", 3), (\"finish the book\", 4)]"
   ]
  },
  {
   "cell_type": "code",
   "execution_count": 8,
   "metadata": {
    "scrolled": true
   },
   "outputs": [
    {
     "data": {
      "text/plain": [
       "[(('open a book', 1), ('read the first line', 2)),\n",
       " (('open a book', 1), ('read the first chapter', 3)),\n",
       " (('open a book', 1), ('finish the book', 4)),\n",
       " (('read the first line', 2), ('read the first chapter', 3)),\n",
       " (('read the first line', 2), ('finish the book', 4)),\n",
       " (('read the first chapter', 3), ('finish the book', 4))]"
      ]
     },
     "execution_count": 8,
     "metadata": {},
     "output_type": "execute_result"
    }
   ],
   "source": [
    "combinations = list(itertools.combinations(how_to_read, 2))\n",
    "combinations"
   ]
  },
  {
   "cell_type": "code",
   "execution_count": 9,
   "metadata": {},
   "outputs": [
    {
     "data": {
      "text/plain": [
       "(('open a book', 1), ('read the first line', 2))"
      ]
     },
     "execution_count": 9,
     "metadata": {},
     "output_type": "execute_result"
    }
   ],
   "source": [
    "x = combinations[0]\n",
    "x"
   ]
  },
  {
   "cell_type": "code",
   "execution_count": 13,
   "metadata": {},
   "outputs": [
    {
     "data": {
      "text/plain": [
       "(6, 12)"
      ]
     },
     "execution_count": 13,
     "metadata": {},
     "output_type": "execute_result"
    }
   ],
   "source": [
    "len(combinations), len(all_combos)"
   ]
  },
  {
   "cell_type": "code",
   "execution_count": 10,
   "metadata": {},
   "outputs": [],
   "source": [
    "all_combos = list()\n",
    "for combo in combinations:\n",
    "    all_combos.append(combo)\n",
    "    all_combos.append((combo[1], combo[0]))"
   ]
  },
  {
   "cell_type": "code",
   "execution_count": 32,
   "metadata": {},
   "outputs": [
    {
     "data": {
      "text/plain": [
       "[(('open a book', 1), ('read the first line', 2)),\n",
       " (('read the first line', 2), ('open a book', 1)),\n",
       " (('open a book', 1), ('read the first chapter', 3)),\n",
       " (('read the first chapter', 3), ('open a book', 1)),\n",
       " (('open a book', 1), ('finish the book', 4)),\n",
       " (('finish the book', 4), ('open a book', 1)),\n",
       " (('read the first line', 2), ('read the first chapter', 3)),\n",
       " (('read the first chapter', 3), ('read the first line', 2)),\n",
       " (('read the first line', 2), ('finish the book', 4)),\n",
       " (('finish the book', 4), ('read the first line', 2)),\n",
       " (('read the first chapter', 3), ('finish the book', 4)),\n",
       " (('finish the book', 4), ('read the first chapter', 3))]"
      ]
     },
     "execution_count": 32,
     "metadata": {},
     "output_type": "execute_result"
    }
   ],
   "source": [
    "all_combos"
   ]
  },
  {
   "cell_type": "code",
   "execution_count": 33,
   "metadata": {},
   "outputs": [],
   "source": [
    "dataset = list()\n",
    "for combo in all_combos:\n",
    "    dataset.append(((combo[0][0], combo[1][0]), combo[0][1] < combo[1][1]))"
   ]
  },
  {
   "cell_type": "code",
   "execution_count": 34,
   "metadata": {},
   "outputs": [
    {
     "data": {
      "text/plain": [
       "[(('open a book', 'read the first line'), True),\n",
       " (('read the first line', 'open a book'), False),\n",
       " (('open a book', 'read the first chapter'), True),\n",
       " (('read the first chapter', 'open a book'), False),\n",
       " (('open a book', 'finish the book'), True),\n",
       " (('finish the book', 'open a book'), False),\n",
       " (('read the first line', 'read the first chapter'), True),\n",
       " (('read the first chapter', 'read the first line'), False),\n",
       " (('read the first line', 'finish the book'), True),\n",
       " (('finish the book', 'read the first line'), False),\n",
       " (('read the first chapter', 'finish the book'), True),\n",
       " (('finish the book', 'read the first chapter'), False)]"
      ]
     },
     "execution_count": 34,
     "metadata": {},
     "output_type": "execute_result"
    }
   ],
   "source": [
    "dataset"
   ]
  },
  {
   "cell_type": "code",
   "execution_count": 35,
   "metadata": {},
   "outputs": [],
   "source": [
    "random.shuffle(dataset)"
   ]
  },
  {
   "cell_type": "code",
   "execution_count": 36,
   "metadata": {},
   "outputs": [
    {
     "data": {
      "text/plain": [
       "[(('finish the book', 'read the first chapter'), False),\n",
       " (('open a book', 'read the first line'), True),\n",
       " (('read the first chapter', 'finish the book'), True),\n",
       " (('read the first line', 'open a book'), False),\n",
       " (('open a book', 'read the first chapter'), True),\n",
       " (('read the first line', 'finish the book'), True),\n",
       " (('read the first chapter', 'open a book'), False),\n",
       " (('open a book', 'finish the book'), True),\n",
       " (('finish the book', 'read the first line'), False),\n",
       " (('read the first chapter', 'read the first line'), False),\n",
       " (('finish the book', 'open a book'), False),\n",
       " (('read the first line', 'read the first chapter'), True)]"
      ]
     },
     "execution_count": 36,
     "metadata": {},
     "output_type": "execute_result"
    }
   ],
   "source": [
    "dataset"
   ]
  },
  {
   "cell_type": "code",
   "execution_count": null,
   "metadata": {},
   "outputs": [],
   "source": []
  },
  {
   "cell_type": "code",
   "execution_count": 37,
   "metadata": {},
   "outputs": [],
   "source": [
    "def extract_features(instruction: str) -> list:\n",
    "    binary = 1 if 'first' in instruction else 0\n",
    "    return [len(instruction.split(' ')), binary]"
   ]
  },
  {
   "cell_type": "code",
   "execution_count": 38,
   "metadata": {},
   "outputs": [
    {
     "data": {
      "text/plain": [
       "[7, 0]"
      ]
     },
     "execution_count": 38,
     "metadata": {},
     "output_type": "execute_result"
    }
   ],
   "source": [
    "extract_features('read the second line blah blah blah')"
   ]
  },
  {
   "cell_type": "code",
   "execution_count": 39,
   "metadata": {},
   "outputs": [],
   "source": [
    "dataset_features = list()\n",
    "\n",
    "for item in dataset:\n",
    "    features_1 = extract_features(item[0][0])\n",
    "    features_2 = extract_features(item[0][1])\n",
    "    \n",
    "    features = tuple(features_1 + features_2)\n",
    "    \n",
    "    dataset_features.append((features, item[1]))"
   ]
  },
  {
   "cell_type": "code",
   "execution_count": 40,
   "metadata": {},
   "outputs": [
    {
     "data": {
      "text/plain": [
       "[((3, 0, 4, 1), False),\n",
       " ((3, 0, 4, 1), True),\n",
       " ((4, 1, 3, 0), True),\n",
       " ((4, 1, 3, 0), False),\n",
       " ((3, 0, 4, 1), True),\n",
       " ((4, 1, 3, 0), True),\n",
       " ((4, 1, 3, 0), False),\n",
       " ((3, 0, 3, 0), True),\n",
       " ((3, 0, 4, 1), False),\n",
       " ((4, 1, 4, 1), False),\n",
       " ((3, 0, 3, 0), False),\n",
       " ((4, 1, 4, 1), True)]"
      ]
     },
     "execution_count": 40,
     "metadata": {},
     "output_type": "execute_result"
    }
   ],
   "source": [
    "dataset_features"
   ]
  },
  {
   "cell_type": "code",
   "execution_count": null,
   "metadata": {},
   "outputs": [],
   "source": []
  },
  {
   "cell_type": "code",
   "execution_count": null,
   "metadata": {},
   "outputs": [],
   "source": []
  },
  {
   "cell_type": "code",
   "execution_count": null,
   "metadata": {},
   "outputs": [],
   "source": []
  }
 ],
 "metadata": {
  "kernelspec": {
   "display_name": "3.7.7",
   "language": "python",
   "name": "3.7.7"
  },
  "language_info": {
   "codemirror_mode": {
    "name": "ipython",
    "version": 3
   },
   "file_extension": ".py",
   "mimetype": "text/x-python",
   "name": "python",
   "nbconvert_exporter": "python",
   "pygments_lexer": "ipython3",
   "version": "3.7.7"
  }
 },
 "nbformat": 4,
 "nbformat_minor": 4
}
